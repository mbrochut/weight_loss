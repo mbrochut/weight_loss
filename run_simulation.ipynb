{
 "cells": [
  {
   "cell_type": "markdown",
   "metadata": {},
   "source": [
    "# Introduction\n",
    "\n",
    "Jupiter notebook to run the simulations. For details about simulation algorithm, go in simulation.py file\n",
    "\n",
    "There is two types of simulation:\n",
    "1. Simulation with variable number of Animal in order ot find the Power at 80% for each infection model\n",
    "2. Simulation with fix number of animals (found before for 80% power) but with different Threshold of sacrificed applied.\n",
    "## Load data and packages"
   ]
  },
  {
   "cell_type": "code",
   "execution_count": 2,
   "metadata": {},
   "outputs": [],
   "source": [
    "import simulation as sm\n",
    "import pandas as pd\n",
    "import numpy as np"
   ]
  },
  {
   "cell_type": "code",
   "execution_count": 3,
   "metadata": {},
   "outputs": [],
   "source": [
    "df = pd.read_excel('./data/df_for_analysis.xlsx',index_col=0)\n",
    "df['Time_infection'] = df['Time_infection'].dt.strftime(\"%Y-%m-%d\")\n",
    "df['Time_point'] = df['Time_point'].apply(lambda x: pd.to_datetime(x.split(','),dayfirst=True,exact=False))"
   ]
  },
  {
   "cell_type": "markdown",
   "metadata": {},
   "source": [
    "### prepare data for simulation"
   ]
  },
  {
   "cell_type": "code",
   "execution_count": null,
   "metadata": {},
   "outputs": [],
   "source": [
    "#remove lethal dose\n",
    "df = df[~df['Experiment'].str.contains(\"/LD\")]\n",
    "\n",
    "#add info of group control or not\n",
    "df['control'] = df['exp'].apply(lambda x: 0 if x==0 else 1)"
   ]
  },
  {
   "cell_type": "markdown",
   "metadata": {},
   "source": [
    "### columns used in simulations"
   ]
  },
  {
   "cell_type": "code",
   "execution_count": null,
   "metadata": {},
   "outputs": [],
   "source": [
    "#list of column name for survival and time for each threshold\n",
    "columns_time = df.columns[df.columns.str.contains('time')].values.tolist()\n",
    "columns_survival = df.columns[df.columns.str.contains('survival')].values.tolist()\n",
    "\n",
    "columns_survival = [columns_survival[-1]] + columns_survival[:-1] #PUT ORIGINAL DATA AT FIRST\n",
    "columns_time = [columns_time[-1]] + columns_time[:-1] #PUT ORIGINAL DATA AT FIRST\n",
    "column_threshold = list(zip(columns_survival,columns_time)) #USEFUL TO LOOP OVER CONDITION: THRESHOLD"
   ]
  },
  {
   "cell_type": "markdown",
   "metadata": {},
   "source": [
    "### number of Mice used for the simulation "
   ]
  },
  {
   "cell_type": "code",
   "execution_count": null,
   "metadata": {},
   "outputs": [],
   "source": [
    "#number of mice per group\n",
    "mice_100 = np.logspace(1, 2, num=20).astype(int).tolist() #log scale until N = 100\n",
    "mice_200 = np.arange(110,210,10).astype(int).tolist() # linear scale 100-200\n",
    "mice_400 = np.arange(210,410,10).astype(int).tolist() # linear scale 200-400 not alwasy used if simulation converge\n",
    "mice_range = mice_100 + mice_200 + mice_400"
   ]
  },
  {
   "cell_type": "markdown",
   "metadata": {},
   "source": [
    "## Simulation\n",
    "### with raw data (no threshold apply) with varying number of mice"
   ]
  },
  {
   "cell_type": "code",
   "execution_count": null,
   "metadata": {},
   "outputs": [],
   "source": [
    "sm.automatic_simulation_per_infection(df,\n",
    "N_simulation=5000,\n",
    "N_repetition=20,\n",
    "mice_range = mice_range,\n",
    "cpu=11)"
   ]
  },
  {
   "cell_type": "markdown",
   "metadata": {},
   "source": [
    "### with fix number of mice and varying Threshold"
   ]
  },
  {
   "cell_type": "code",
   "execution_count": null,
   "metadata": {},
   "outputs": [],
   "source": [
    "infection_of_interest = [\"Listeria\",\"S. pneumoniae\"]\n",
    "N_mice_80 = [35,56]\n",
    "dict_mice_range = dict(zip(infection_of_interest,N_mice_80))\n",
    "df = df[df['Infection'].isin(infection_of_interest)]"
   ]
  },
  {
   "cell_type": "code",
   "execution_count": null,
   "metadata": {},
   "outputs": [],
   "source": [
    "sm.automatic_simulation_per_infection_fix_mice(df,\n",
    "N_simulation=5000,\n",
    "N_repetition=20,\n",
    "column_threshold=column_threshold,\n",
    "dict_mice_range = dict_mice_range,\n",
    "cpu=11)"
   ]
  }
 ],
 "metadata": {
  "kernelspec": {
   "display_name": "Python 3.10.6 ('env': venv)",
   "language": "python",
   "name": "python3"
  },
  "language_info": {
   "codemirror_mode": {
    "name": "ipython",
    "version": 3
   },
   "file_extension": ".py",
   "mimetype": "text/x-python",
   "name": "python",
   "nbconvert_exporter": "python",
   "pygments_lexer": "ipython3",
   "version": "3.10.6"
  },
  "orig_nbformat": 4,
  "vscode": {
   "interpreter": {
    "hash": "ca93abbcf05306de3ef2dd180a4fa224eab0105d023e312d1b36dad4378f4ae5"
   }
  }
 },
 "nbformat": 4,
 "nbformat_minor": 2
}
